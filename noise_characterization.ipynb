{
 "cells": [
  {
   "cell_type": "markdown",
   "metadata": {},
   "source": [
    "# Noise Characterization of Imaging System and Location \n",
    "\n",
    "This a simple notebook with some simple calculation to characterize the noise of an imaging system at particular enviorement. The approach to model both would be by a using a set of images on which we will calculate different noise factors such read noise, sky polution noise, etc.\n",
    "\n",
    "This started around my personal setup which at the moment of writting this consist on an Explorer Scientific 102ED Carbon Fiber tube, an SkyWatcher EQ6-r mount and a un-modified Nikon Z6_2 with Optlong L-Enhanced filter for pseudo narrowband imaging.\n",
    "\n",
    "This notebook is heavily based on blog entry by chrisvdberge here: https://dslr-astrophotography.com/long-exposures-multiple-shorter-exposures/ and https://www.ucolick.org/~bolte/AY257/s_n.pdf\n",
    "Other material used:\n",
    "\n",
    "- https://github.com/zsyOAOA/noise_est_ICCV2015\n",
    "\n",
    "Dependencies:\n",
    "- opencv-python https://pypi.org/project/opencv-python/\n",
    "- scikit-image https://scikit-image.org/\n",
    "- matplotlib \n",
    "- astropi https://www.astropy.org/\n",
    "\n",
    "\n",
    "\n",
    "## Types Of Noise Considered\n",
    "\n",
    "Image noise can range from almost imperceptible specks on a digital photograph taken in good light, to optical and radioastronomical images that are almost entirely noise, from which a small amount of information can be derived by sophisticated processing. Such a noise level would be unacceptable in a photograph since it would be impossible even to determine the subject.\n",
    "\n",
    "There are a few different type of noises and sources of noise in a typical astronomical setup. I would not considered all off them as some are not contributing largely to the image, or cannot be easily modeled and measured by me.\n",
    "\n",
    "\n",
    "## SNR or Signal To Noise Ratio\n",
    "\n",
    "The SNR is simply the ratio between Signal and the noise, o signal divided by noise (i.e the power of each). Signal in or modelization of integration signal of N frames would be\n",
    "\n",
    "$S_{total} = \\sum \\limits _{j=1} ^N s_{j}*t_{j}$\n",
    "\n",
    "Where $N$ is number of frames captured, $s_{j}$ is signal per seconds for frame j and $t_{j}$ is exposure time in seconds. \n",
    "\n",
    "\n",
    "## Quantization Noise\n",
    "\n",
    "Ref: https://arxiv.org/ftp/arxiv/papers/1505/1505.03489.pdf\n",
    "Ref: https://www.allaboutcircuits.com/technical-articles/quantization-nois-amplitude-quantization-error-analog-to-digital-converters/\n",
    "\n",
    "\n",
    "Quantization noise appearance is inherent in amplitude quantization process. It is generally\n",
    "presents due to analog data converted into digital data. In this noise model, the signal to noise\n",
    "ratio (SNR) is limited by minimum and maximum pixel value, $P_{max}$ and $P_{min}$ respectively.\n",
    "\n",
    "The SNR is given as\n",
    "$SNR_{q}=20log_{10} (P_{max} - P_{min}) / \\sigma_{n} dB$\n",
    "\n",
    "Where $\\sigma_{n}$ = Standard deviation of noise, when input is full amplitude sine wave SNR becomes\n",
    "$SNR_{q} = 6n + 1.76 dB$ \n",
    "\n",
    "Or in power ratio\n",
    "\n",
    "$SNR_{q} = 10^{(SNR_{dB}/10)} = 10^{((6n + 1.76)/10)}$ \n",
    "\n",
    "Where $n$ is number of bits. Quantization noise obeys the uniform distribution. That is why it is\n",
    "referred as uniform noise. \n",
    "\n",
    "\n",
    "\n"
   ]
  },
  {
   "cell_type": "code",
   "execution_count": 303,
   "metadata": {},
   "outputs": [
    {
     "name": "stdout",
     "output_type": "stream",
     "text": [
      "SNRquantization = 85.76 dB\n"
     ]
    }
   ],
   "source": [
    "n_bits = 14 # This is Analog to Digital size in bits for the Nikon Z6 II\n",
    "snr_quant = (6*n_bits+1.76) \n",
    "print('SNRquantization = ' + str(snr_quant) + ' dB')"
   ]
  },
  {
   "cell_type": "markdown",
   "metadata": {},
   "source": [
    "So for the Nikon Z6 which has as ADC of 14bits we have a max SNR of 85.76dB, and each bit would increase the resolution by 6.02dB. We won't be incorporating  this factor but it is good to know max theoretical SNR of our system."
   ]
  },
  {
   "cell_type": "markdown",
   "metadata": {},
   "source": [
    "## Sources of Noise\n",
    "\n",
    "Please note that in the following equations we will use the standar deviation $\\sigma$ to model each noise type, which is the square root of the variance of the signal. Think of it for example as the randomness of the photon count being received by the sensor. \n",
    "\n",
    "$\\sigma = \\sqrt{E[X^2]-(E[X])^2}$\n",
    "\n",
    "Where $E[X]$ is the expected value (the average) of random variable $X$.\n",
    "\n",
    "### Astronomical Object Noise $\\sigma_{obj}$\n",
    "\n",
    "This noise term represents the object noise we are trying to capture. This is a big bad which would account for the signal (photons) traveling through inter-stelar medium, and arriving through the atmosphere to our sensor.\n",
    "\n",
    "$\\sigma_{obj} = \\sqrt{S_{total}} = \\sqrt{\\sum \\limits _{j=1} ^N s_{j}*t_{j}}$\n",
    "\n",
    "$\\sigma_{obj}$ is the final noise present on a well calibrated image where we have fully sustracted different sources of noise using darks and bias frames.\n",
    "\n",
    "### Sky Noise $\\sigma_{sky}$\n",
    "\n",
    "Sky noise refers to the scattering and reflection of photons in the sky background (and heavy smog in my area) which gets captured by the sensor.\n",
    "\n",
    "$\\sigma_{sky} = \\sqrt{Sky_{total}} = \\sqrt{\\sum \\limits _{j=1} ^N Sky_{j}*t_{j}}$\n",
    "\n",
    "This noise builds up in our sensor over time and we normally do not have the means to measure it and substract from the final image. \n",
    "\n",
    "### Dark Current Noise $\\sigma_{dc}$\n",
    "\n",
    "Dark Current noise is the thermal noise\n",
    "\n",
    "$\\sigma_{dc} = \\sqrt{DC_{total}} = \\sqrt{\\sum \\limits _{j=1} ^N DC_{j}*t_{j}}$\n",
    "\n",
    "Our dark frames are normally used to reduce this factor in our images.\n",
    "\n",
    "### Read Noise $\\sigma_{r}$\n",
    "\n",
    "Read noise does not build up over time and only occurs when reading out the values from the sensor itself. This type of noise can be modeles as Shot Noise for the total integration of $N$ images as\n",
    "\n",
    "$\\sigma_{ro} = \\sqrt{N}*Rnoise$\n",
    "\n",
    "Our bias frames are normally used to reduce this factor in our images. For very large number of captures the read noise can become a significant factor. There is always a trade of between many short exposure images or few long exposure images (more on that later).\n",
    "\n",
    "\n",
    "## SNR total\n",
    "\n",
    "$SNR = \\frac{\\sum \\limits _{j=1} ^N s_{j}*t_{j}}{\\sigma_{obj} + \\sigma_{sky} + \\sigma_{dc} + \\sigma_{ro}} = \\frac{S_{total}}{\\sigma_{obj} + \\sigma_{sky} + \\sigma_{dc} + \\sigma_{ro}}$\n",
    "\n",
    "\n",
    "## Few long exposures or many short exposures\n",
    "\n",
    "As mentioned above, there is a trade of in how long we keep open the shutter, and how many frames we integrate. Some of the smaller factors like read noise or dark current could become significant. Furthermore the may be little benefit in extending to certain point our exposures, specially depending on sky conditions as we won't be adding much signal versus noise. I strongly recomend reading blog entry by chrisvdberge https://dslr-astrophotography.com/long-exposures-multiple-shorter-exposures/.\n"
   ]
  },
  {
   "cell_type": "markdown",
   "metadata": {},
   "source": []
  },
  {
   "cell_type": "code",
   "execution_count": 304,
   "metadata": {},
   "outputs": [
    {
     "data": {
      "image/png": "[encoded data removed]",
      "text/plain": [
       "<Figure size 640x480 with 1 Axes>"
      ]
     },
     "metadata": {},
     "output_type": "display_data"
    }
   ],
   "source": [
    "from noise_est_ICCV2015 import noise_estimation\n",
    "import math\n",
    "import matplotlib as mpl\n",
    "import matplotlib.pyplot as plt\n",
    "import matplotlib.ticker as mtick\n",
    "\n",
    "plt.style.use('dark_background')\n",
    "\n",
    "def model_sky_noise(time, nframes, sigma):\n",
    "    return math.sqrt(time*nframes*sigma)\n",
    "\n",
    "def model_darkcurrent_noise(time, nframes, sigma):\n",
    "    return math.sqrt(time*nframes*sigma)\n",
    "\n",
    "def model_read_noise(nframes, sigma):\n",
    "    return math.sqrt(nframes)*sigma\n",
    "\n",
    "def snr_vs_exposure(time, nframes, signal, sigma_sky, sigma_dc, sigma_read):\n",
    "    return signal*nframes*time/(model_sky_noise(nframes, time, sigma_sky)+model_darkcurrent_noise(nframes, time, sigma_dc)+model_read_noise(nframes, sigma_read))\n",
    "\n",
    "def snr_graph(signal, sigma_sky, sigma_dc, sigma_read, _start=30, _range=3600, _steps=30):\n",
    "    data = []\n",
    "    one_30sec_exposure = (snr_vs_exposure(30, _range/30, signal, sigma_sky, sigma_dc, sigma_read))\n",
    "    #print('one_30sec_exposure' + str(one_30sec_exposure))\n",
    "\n",
    "    for x in range(_start, _range, _steps):\n",
    "        value = (snr_vs_exposure(x, _range/x, signal, sigma_sky, sigma_dc, sigma_read))\n",
    "        data.append(value/one_30sec_exposure*100-100)\n",
    "        #print('value' + str(value))\n",
    "\n",
    "    return data\n",
    "\n",
    "_steps = 3600\n",
    "plt.plot(range(30, _steps, 30), snr_graph(0.2, 4, 0.0001, 0.5), \n",
    "         range(30, _steps, 30), snr_graph(0.2, 0.1, 0.0001, 0.5), \n",
    "         range(30, _steps, 30), snr_graph(0.2, 0.02, 0.0001, 0.5))\n",
    "plt.gca().yaxis.set_major_formatter(mtick.PercentFormatter())\n",
    "plt.show()"
   ]
  },
  {
   "cell_type": "markdown",
   "metadata": {},
   "source": []
  },
  {
   "cell_type": "markdown",
   "metadata": {},
   "source": []
  },
  {
   "cell_type": "markdown",
   "metadata": {},
   "source": []
  }
 ],
 "metadata": {
  "kernelspec": {
   "display_name": "Python 3.9.2 64-bit",
   "language": "python",
   "name": "python3"
  },
  "language_info": {
   "codemirror_mode": {
    "name": "ipython",
    "version": 3
   },
   "file_extension": ".py",
   "mimetype": "text/x-python",
   "name": "python",
   "nbconvert_exporter": "python",
   "pygments_lexer": "ipython3",
   "version": "3.9.2"
  },
  "orig_nbformat": 4,
  "vscode": {
   "interpreter": {
    "hash": "81794d4967e6c3204c66dcd87b604927b115b27c00565d3d43f05ba2f3a2cb0d"
   }
  }
 },
 "nbformat": 4,
 "nbformat_minor": 2
}
